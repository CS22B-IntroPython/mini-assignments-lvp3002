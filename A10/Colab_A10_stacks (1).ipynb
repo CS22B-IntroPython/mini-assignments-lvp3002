{
  "cells": [
    {
      "cell_type": "markdown",
      "source": [
        "##**Stack Questions**"
      ],
      "metadata": {
        "id": "cP32wAV3Yi-4"
      }
    },
    {
      "cell_type": "markdown",
      "source": [
        "## Question 1: Write a function to sort a stack."
      ],
      "metadata": {
        "id": "KqdNjm1oY_ss"
      }
    },
    {
      "cell_type": "code",
      "source": [
        "def sort_stack(stack):\n",
        "    stack.sort()\n",
        "    return stack\n",
        "stack = [34, 3, 31, 98, 92, 23]\n",
        "print(sort_stack(stack))"
      ],
      "metadata": {
        "id": "mb9K46p3Ym0N",
        "colab": {
          "base_uri": "https://localhost:8080/"
        },
        "outputId": "fe5b86d4-5ee4-4c8f-9dc3-0574a7c1aa30"
      },
      "execution_count": null,
      "outputs": [
        {
          "output_type": "stream",
          "name": "stdout",
          "text": [
            "[3, 23, 31, 34, 92, 98]\n"
          ]
        }
      ]
    },
    {
      "cell_type": "markdown",
      "metadata": {
        "id": "jFxb6ss_Whwl"
      },
      "source": [
        "## Question 2: Depict the following image as a list.\n",
        "\n",
        "<img src=\"https://miro.medium.com/max/1050/1*XifPIMxbamGKhz5UAEdz2w.png\">\n",
        "\n",
        "#### Queue\n",
        "1. Add the number 9 to the list.\n",
        "2. Remove the first number (7) from the list.\n",
        "\n",
        "#### Stack\n",
        "3. Add the number 4 to the same list.\n",
        "4. Remove the last number added (4) from the list."
      ]
    },
    {
      "cell_type": "code",
      "execution_count": null,
      "metadata": {
        "id": "XOm7YLTEWhwm",
        "colab": {
          "base_uri": "https://localhost:8080/"
        },
        "outputId": "b0e3e98f-0ba7-455d-ac2f-fa65f6220acc"
      },
      "outputs": [
        {
          "output_type": "stream",
          "name": "stdout",
          "text": [
            "[7, 3, 1, 6, 8, 9]\n",
            "not possible\n",
            "[7, 3, 1, 6, 8, 9]\n"
          ]
        }
      ],
      "source": [
        "#Your Answer:\n",
        "stack_1 = [7,3,1,6,8]\n",
        "stack_1.append(9)\n",
        "print(stack_1)\n",
        "\n",
        "if stack_1[-1] == 7:\n",
        "    stack.pop()\n",
        "else:\n",
        "   print('not possible')\n",
        "print(stack_1)\n"
      ]
    },
    {
      "cell_type": "code",
      "source": [
        "from collections import deque\n",
        "list_1 = [7,3,1,6,8]\n",
        "queue = deque(list_1)\n",
        "queue.append(9)\n",
        "print(list(queue))\n",
        "\n",
        "queue.popleft()\n",
        "print(list(queue))\n",
        "\n",
        "stack = list(queue)\n",
        "stack.append(4)\n",
        "stack.pop()"
      ],
      "metadata": {
        "colab": {
          "base_uri": "https://localhost:8080/"
        },
        "id": "e2tQNpW1OyuC",
        "outputId": "e7861fb0-ba8b-41b5-adcf-023feea4dd24"
      },
      "execution_count": null,
      "outputs": [
        {
          "output_type": "stream",
          "name": "stdout",
          "text": [
            "[7, 3, 1, 6, 8, 9]\n",
            "[3, 1, 6, 8, 9]\n"
          ]
        },
        {
          "output_type": "execute_result",
          "data": {
            "text/plain": [
              "4"
            ]
          },
          "metadata": {},
          "execution_count": 36
        }
      ]
    },
    {
      "cell_type": "markdown",
      "metadata": {
        "id": "tQ3kgHVtWhwn"
      },
      "source": [
        "#### Question 3: Nodes\n",
        "\n",
        "<img src=\"https://encrypted-tbn0.gstatic.com/images?q=tbn:ANd9GcQW8-twGk0hCILE-muHBnG93hZJh2Qvgs7pVA&s\">\n",
        "\n",
        "1. Use a data structure of your choice to denote the different nodes.\n",
        "\n",
        "2. Create a function that sums all of the \"children\". Test with the node 10 (Expected answer is 37).\n"
      ]
    },
    {
      "cell_type": "code",
      "execution_count": null,
      "metadata": {
        "id": "UU0rjzjXWhwn",
        "colab": {
          "base_uri": "https://localhost:8080/"
        },
        "outputId": "a36f291a-bd87-4a82-d190-2cddccc84adb"
      },
      "outputs": [
        {
          "output_type": "stream",
          "name": "stdout",
          "text": [
            "10 equals 14\n"
          ]
        }
      ],
      "source": [
        "#Your Answer:\n",
        "\n",
        "tree_structure = {\n",
        "    8: [3,10],\n",
        "    3: [1,6],\n",
        "    10: [14],\n",
        "    1: [],\n",
        "    6: [4,7],\n",
        "    14: [13],\n",
        "    4: [],\n",
        "    7: [],\n",
        "    13: []\n",
        "}\n",
        "\n",
        "def children_total(tree_structure, node):\n",
        "    return sum(tree_structure[node])\n",
        "\n",
        "node = 10\n",
        "test = children_total(tree_structure, node)\n",
        "print(f\"{node} equals {test}\")"
      ]
    }
  ],
  "metadata": {
    "hide_input": false,
    "kernelspec": {
      "display_name": "Python 3",
      "language": "python",
      "name": "python3"
    },
    "language_info": {
      "codemirror_mode": {
        "name": "ipython",
        "version": 3
      },
      "file_extension": ".py",
      "mimetype": "text/x-python",
      "name": "python",
      "nbconvert_exporter": "python",
      "pygments_lexer": "ipython3",
      "version": "3.8.3"
    },
    "toc": {
      "base_numbering": 1,
      "nav_menu": {},
      "number_sections": true,
      "sideBar": true,
      "skip_h1_title": false,
      "title_cell": "Table of Contents",
      "title_sidebar": "Contents",
      "toc_cell": false,
      "toc_position": {},
      "toc_section_display": true,
      "toc_window_display": false
    },
    "colab": {
      "provenance": []
    }
  },
  "nbformat": 4,
  "nbformat_minor": 0
}